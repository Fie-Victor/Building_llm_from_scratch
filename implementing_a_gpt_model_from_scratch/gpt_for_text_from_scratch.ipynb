{
 "cells": [
  {
   "cell_type": "markdown",
   "metadata": {},
   "source": [
    "## Implementing a GPT model from Scratch To Generate Text"
   ]
  },
  {
   "cell_type": "markdown",
   "metadata": {},
   "source": [
    "In this notebook, we implement a GPT-like LLM model from scratch to generate Text. let's Go"
   ]
  },
  {
   "cell_type": "code",
   "execution_count": 11,
   "metadata": {},
   "outputs": [],
   "source": [
    "#configuration for GPT2 we will be using\n",
    "\n",
    "GPT_CONFIG_124M = {\n",
    "    \"vocab_size\": 50257,\n",
    "    \"context_length\": 1024,\n",
    "    \"emb_dim\": 768,\n",
    "    \"n_heads\": 12, # numbers of head in multiattention head\n",
    "    \"n_layers\":12, #number of transformer bloclks\n",
    "    \"drop_rate\": 0.1,\n",
    "    \"qkv_bias\": False, #\"first we don't add bias to linear layers for keys, value and queries parameters\"\n",
    "}\n"
   ]
  },
  {
   "cell_type": "code",
   "execution_count": 19,
   "metadata": {},
   "outputs": [],
   "source": [
    "#let's create a GBT backbone call DummyGPTModel first before adding more sophistocation\n",
    "\n",
    "import torch\n",
    "import torch.nn as nn\n",
    "\n",
    "class DummyGPTModel(nn.Module):\n",
    "    def __init__(self, cfg):\n",
    "        super().__init__()\n",
    "        self.tok_emb = nn.Embedding(cfg[\"vocab_size\"], cfg[\"emb_dim\"]) #token emmbedding layer\n",
    "        self.pos_emb = nn.Embedding(cfg[\"context_length\"], cfg[\"emb_dim\"]) #position embedding layer\n",
    "        self.drop_emb = nn.Dropout(cfg[\"drop_rate\"]) #dropout layer\n",
    "        self.trf_blocks = nn.Sequential(\n",
    "            *[DummyTransformerBlock(cfg) for _ in range (cfg[\"n_layers\"])])   #A\n",
    "        self.final_norm = DummyLayerNorm(cfg[\"emb_dim\"])                      #B\n",
    "        self.out_head = nn.Linear(\n",
    "            cfg[\"emb_dim\"], cfg[\"vocab_size\"], bias=False\n",
    "        )\n",
    "\n",
    "    def forward(self, in_idx):\n",
    "        batch_size, seq_len = in_idx.shape\n",
    "        tok_embeds = self.tok_emb(in_idx) #token embeddings\n",
    "        pos_embeds = self.pos_emb(torch.arange(seq_len, device=in_idx.device))\n",
    "\n",
    "        x = tok_embeds + pos_embeds #add token and position embeddings\n",
    "        x = self.drop_emb(x) #apply dropout\n",
    "        x = self.trf_blocks(x) #pass through transformer blocks\n",
    "        x = self.final_norm(x) #apply final layer normalization\n",
    "        logits = self.out_head(x) #output layer to get logits for each token in vocabulary\n",
    "        return logits\n",
    "    \n",
    "\n",
    "class DummyTransformerBlock(nn.Module):                                             #C\n",
    "    def __init__(self, cfg):\n",
    "        super().__init__()\n",
    "\n",
    "    def forward(self, x):                                                              #D\n",
    "        return x\n",
    "    \n",
    "class DummyLayerNorm(nn.Module):                                              #E                        \n",
    "    def __init__(self, normalized_shape, eps=1e-5):                          #F                     \n",
    "        super().__init__()\n",
    "\n",
    "    def forward (self, x):\n",
    "        return x\n",
    "\n"
   ]
  },
  {
   "cell_type": "code",
   "execution_count": 20,
   "metadata": {},
   "outputs": [],
   "source": [
    "#A Use a placeholder for TransformerBlock\n",
    "#B Use a placeholder for LayerNorm\n",
    "#C A simple placeholder class that will be replaced by a real TransformerBlock later\n",
    "#D This block does nothing and just returns its input.\n",
    "#E A simple placeholder class that will be replaced by a real NormBlock later\n",
    "#F The parameters here are just to mimic the LayerNorm interface."
   ]
  },
  {
   "cell_type": "code",
   "execution_count": 21,
   "metadata": {},
   "outputs": [
    {
     "name": "stdout",
     "output_type": "stream",
     "text": [
      "tensor([[6109, 3626, 6100,  345],\n",
      "        [6109, 1110, 6622,  257]])\n"
     ]
    }
   ],
   "source": [
    "#we will use a batch of two input to try our DummyGPTModel\n",
    "import tiktoken\n",
    "\n",
    "tokenizer = tiktoken.get_encoding(\"gpt2\")\n",
    "batch = []\n",
    "txt1 = \"Every effort moves you\"\n",
    "txt2 = \"Every day holds a\"\n",
    "\n",
    "batch.append(torch.tensor(tokenizer.encode(txt1)))\n",
    "batch.append(torch.tensor(tokenizer.encode(txt2)))\n",
    "batch = torch.stack(batch, dim=0)\n",
    "print(batch)\n"
   ]
  },
  {
   "cell_type": "code",
   "execution_count": 22,
   "metadata": {},
   "outputs": [
    {
     "name": "stdout",
     "output_type": "stream",
     "text": [
      "Output logits shape: torch.Size([2, 4, 50257])\n",
      "tensor([[[-0.9289,  0.2748, -0.7557,  ..., -1.6070,  0.2702, -0.5888],\n",
      "         [-0.4476,  0.1726,  0.5354,  ..., -0.3932,  1.5285,  0.8557],\n",
      "         [ 0.5680,  1.6053, -0.2155,  ...,  1.1624,  0.1380,  0.7425],\n",
      "         [ 0.0447,  2.4787, -0.8843,  ...,  1.3219, -0.0864, -0.5856]],\n",
      "\n",
      "        [[-1.5474, -0.0542, -1.0571,  ..., -1.8061, -0.4494, -0.6747],\n",
      "         [-0.8422,  0.8243, -0.1098,  ..., -0.1434,  0.2079,  1.2046],\n",
      "         [ 0.1355,  1.1858, -0.1453,  ...,  0.0869, -0.1590,  0.1552],\n",
      "         [ 0.1666, -0.8138,  0.2307,  ...,  2.5035, -0.3055, -0.3083]]],\n",
      "       grad_fn=<UnsafeViewBackward0>)\n"
     ]
    }
   ],
   "source": [
    "#\"using it with our DummyGPTModel\"\n",
    "torch.manual_seed(123)\n",
    "model = DummyGPTModel(GPT_CONFIG_124M)\n",
    "logits = model(batch)\n",
    "print(\"Output logits shape:\", logits.shape) #should be (2, seq_len, vocab_size)\n",
    "print(logits)"
   ]
  },
  {
   "cell_type": "code",
   "execution_count": null,
   "metadata": {},
   "outputs": [],
   "source": [
    "#let's implement layer normalisation to improve stability and efficiency of neural networks (avoid vanishing/exploding gradients)   \n",
    "# the goal is to adjust an NN output so that it has a mean of 0 and a standard deviation of 1"
   ]
  },
  {
   "cell_type": "code",
   "execution_count": null,
   "metadata": {},
   "outputs": [
    {
     "name": "stdout",
     "output_type": "stream",
     "text": [
      "tensor([[0.2260, 0.3470, 0.0000, 0.2216, 0.0000, 0.0000],\n",
      "        [0.2133, 0.2394, 0.0000, 0.5198, 0.3297, 0.0000]],\n",
      "       grad_fn=<ReluBackward0>)\n"
     ]
    }
   ],
   "source": [
    "#exemple\n",
    "torch.manual_seed(123)\n",
    "batch_example = torch.randn(2,5)\n",
    "layer = nn.Sequential(nn.Linear(5,6), nn.ReLU()) # relut thresholds negative values to zero (it's a activation function)\n",
    "out = layer(batch_example)\n",
    "print(out)"
   ]
  },
  {
   "cell_type": "code",
   "execution_count": 25,
   "metadata": {},
   "outputs": [
    {
     "name": "stdout",
     "output_type": "stream",
     "text": [
      "Mean: tensor([[0.1324],\n",
      "        [0.2170]], grad_fn=<MeanBackward1>)\n",
      "variance: tensor([[0.0231],\n",
      "        [0.0398]], grad_fn=<VarBackward0>)\n"
     ]
    }
   ],
   "source": [
    "#let's examine the mean and standard deviation of the output\n",
    "mean = out.mean(dim=-1, keepdim=True)\n",
    "var = out.var(dim=-1, keepdim=True)\n",
    "\n",
    "print(\"Mean:\", mean)\n",
    "print(\"variance:\", var)"
   ]
  },
  {
   "cell_type": "code",
   "execution_count": 26,
   "metadata": {},
   "outputs": [
    {
     "name": "stdout",
     "output_type": "stream",
     "text": [
      "Normalized Output: tensor([[ 0.6159,  1.4126, -0.8719,  0.5872, -0.8719, -0.8719],\n",
      "        [-0.0189,  0.1121, -1.0876,  1.5173,  0.5647, -1.0876]],\n",
      "       grad_fn=<DivBackward0>)\n",
      "After LayerNorm - Mean: tensor([[9.9341e-09],\n",
      "        [1.9868e-08]], grad_fn=<MeanBackward1>)\n",
      "After LayerNorm - Variance: tensor([[1.0000],\n",
      "        [1.0000]], grad_fn=<VarBackward0>)\n"
     ]
    }
   ],
   "source": [
    "#let's apply layer normalization\n",
    "# it consist of subtracting the mean and dividing by the standard deviation\n",
    "\n",
    "out_norm = (out-mean) / torch.sqrt(var)\n",
    "mean = out_norm.mean(dim=-1, keepdim=True)\n",
    "var = out_norm.var(dim=-1, keepdim=True)\n",
    "print(\"Normalized Output:\", out_norm)\n",
    "print(\"After LayerNorm - Mean:\", mean)\n",
    "print(\"After LayerNorm - Variance:\", var)"
   ]
  },
  {
   "cell_type": "code",
   "execution_count": 27,
   "metadata": {},
   "outputs": [
    {
     "name": "stdout",
     "output_type": "stream",
     "text": [
      "Mean:\n",
      " tensor([[    0.0000],\n",
      "        [    0.0000]], grad_fn=<MeanBackward1>)\n",
      "Variance:\n",
      " tensor([[1.0000],\n",
      "        [1.0000]], grad_fn=<VarBackward0>)\n"
     ]
    }
   ],
   "source": [
    "# we can turn off scientific notation for clarity\n",
    "torch.set_printoptions(sci_mode=False)\n",
    "print(\"Mean:\\n\", mean)\n",
    "print(\"Variance:\\n\", var)"
   ]
  },
  {
   "cell_type": "code",
   "execution_count": 28,
   "metadata": {},
   "outputs": [],
   "source": [
    "#let's create the class\n",
    "\n",
    "class LayerNorm(nn.Module):\n",
    "    def __init__(self, emb_dim):\n",
    "        super().__init__()\n",
    "        self.eps = 1e-5\n",
    "        self.scale = nn.Parameter(torch.ones(emb_dim)) #trainable parameter to learn correctly scaling\n",
    "        self.shift = nn.Parameter(torch.zeros(emb_dim)) #trainable parameter to learn correctly scaling\n",
    "\n",
    "    def forward(self,x):\n",
    "        mean = x.mean(dim=-1, keepdim=True)\n",
    "        var = x.var(dim=-1, keepdim=True)\n",
    "        x_norm = (x-mean) / torch.sqrt(var + self.eps) #to prevent division by 0\n",
    "        return self.scale * x_norm + self.shift"
   ]
  },
  {
   "cell_type": "markdown",
   "metadata": {},
   "source": [
    "NB: We use biased variance (dividing by n ,number of input in the variance formula, instead of n-1)\n",
    "but this is not important here because as in our case, n is large n~n-1"
   ]
  },
  {
   "cell_type": "code",
   "execution_count": 29,
   "metadata": {},
   "outputs": [
    {
     "name": "stdout",
     "output_type": "stream",
     "text": [
      "Mean: \n",
      " tensor([[    -0.0000],\n",
      "        [     0.0000]], grad_fn=<MeanBackward1>)\n",
      "Variance: \n",
      " tensor([[0.8000],\n",
      "        [0.8000]], grad_fn=<VarBackward0>)\n"
     ]
    }
   ],
   "source": [
    "#trying the layerNorm Module\n",
    "ln = LayerNorm(emb_dim=5)\n",
    "out_ln = ln(batch_example)\n",
    "mean = out_ln.mean(dim=-1, keepdim=True)\n",
    "var = out_ln.var(dim=-1, keepdim=True, unbiased=False) #unbiased=False to get the exact variance (divided by n)\n",
    "print(\"Mean: \\n\", mean)\n",
    "print(\"Variance: \\n\", var)"
   ]
  },
  {
   "cell_type": "code",
   "execution_count": null,
   "metadata": {},
   "outputs": [],
   "source": [
    "#now we implement GELU (Gaussian Error Linear Unit) activation fonction very popular in transformer models\n",
    "#GELU(x) = x * P(X <= x) where X ~ N(0,1) GELU(x) ~ x * 0.5 * (1 + tanh(sqrt(2/pi) * (x + 0.044715 * x^3)))\n",
    "\n",
    "class GELU(nn.Module):\n",
    "    def __init__(self):\n",
    "        super().__init__()\n",
    "\n",
    "    def forward(self, x):\n",
    "        return 0.5*x*(1+torch.tanh(torch.sqrt(torch.tensor(2.0/torch.pi))* (x+0.044715* torch.pow(x,3))))"
   ]
  },
  {
   "cell_type": "code",
   "execution_count": 32,
   "metadata": {},
   "outputs": [
    {
     "data": {
      "image/png": "[encoded data removed]",
      "text/plain": [
       "<Figure size 800x300 with 2 Axes>"
      ]
     },
     "metadata": {},
     "output_type": "display_data"
    }
   ],
   "source": [
    "#\"lts's plot the functions side by side to compare them\"\n",
    "\n",
    "import matplotlib.pyplot as plt\n",
    "gelu, relu = GELU(), nn.ReLU()\n",
    "\n",
    "x = torch.linspace(-3,3,100)\n",
    "y_gelu, y_relu = gelu(x), relu(x)\n",
    "plt.figure(figsize=(8,3))\n",
    "for i, (y, label) in enumerate(zip([y_gelu, y_relu], [\"GELU\", \"RELU\"])):\n",
    "    plt.subplot(1,2,i+1)\n",
    "    plt.plot(x,y)\n",
    "    plt.title(f\"{label} activation function\")\n",
    "    plt.xlabel(\"x\")\n",
    "    plt.ylabel(f\"{label}(x)\")\n",
    "    plt.grid()\n",
    "plt.tight_layout()\n",
    "plt.show()"
   ]
  },
  {
   "cell_type": "code",
   "execution_count": 34,
   "metadata": {},
   "outputs": [],
   "source": [
    "#let's use the GELU Module to implement the FeedForward module we will use later for transformer block\n",
    "class FeedForward(nn.Module):\n",
    "    def __init__(self, cfg):\n",
    "        super().__init__()\n",
    "        self.layers = nn.Sequential(\n",
    "            nn.Linear(cfg[\"emb_dim\"], 4*cfg[\"emb_dim\"]), #increase dimension by 4 times\n",
    "            GELU(),\n",
    "            nn.Linear(4*cfg[\"emb_dim\"], cfg[\"emb_dim\"]) #project back to original dimension\n",
    "        )\n",
    "\n",
    "    def forward(self, x):\n",
    "        return self.layers(x)"
   ]
  },
  {
   "cell_type": "code",
   "execution_count": 35,
   "metadata": {},
   "outputs": [
    {
     "name": "stdout",
     "output_type": "stream",
     "text": [
      "torch.Size([2, 3, 768])\n"
     ]
    }
   ],
   "source": [
    "#test with a token embedding size of 768 and feed it a batch input with 2 samples and 3 tokens each\n",
    "ffn = FeedForward(GPT_CONFIG_124M)\n",
    "x = torch.rand(2,3,768)\n",
    "out = ffn(x)\n",
    "print(out.shape) #should be (2,3,768)"
   ]
  },
  {
   "cell_type": "code",
   "execution_count": 37,
   "metadata": {},
   "outputs": [],
   "source": [
    "# now let's discuss the concep of shurcut connections also called residual connections or skip connections (it helps avoid vanishing gradients)\n",
    "#it consist of adding the input of a layer to its output before passing it to the next layer\" (so gradient i slarger and allow more learning)\n",
    "\n",
    "# a neural network to illustrate shortcut connections\n",
    "class ExampleDeepNeuralNetwork(nn.Module):\n",
    "    def __init__(self, layer_sizes, use_shorcut):\n",
    "        super().__init__()\n",
    "        self.use_shortcut = use_shorcut\n",
    "        self.layers = nn.ModuleList([\n",
    "            #implement5 layers\n",
    "            nn.Sequential(nn.Linear(layer_sizes[0], layer_sizes[1]), GELU()), #layer 1\n",
    "            nn.Sequential(nn.Linear(layer_sizes[1], layer_sizes[2]), GELU()), #layer 2\n",
    "            nn.Sequential(nn.Linear(layer_sizes[2], layer_sizes[3]), GELU()), #layer 3\n",
    "            nn.Sequential(nn.Linear(layer_sizes[3], layer_sizes[4]), GELU()), #layer 4\n",
    "            nn.Sequential(nn.Linear(layer_sizes[4], layer_sizes[5])) #layer 5 (no activation function here)\n",
    "        ])\n",
    "\n",
    "    def forward(self, x):\n",
    "        for layer in self.layers:\n",
    "            #compute the layer output\n",
    "            layer_output = layer(x)\n",
    "            #check if shorcut can be applied\n",
    "            if self.use_shortcut and x.shape == layer_output.shape:\n",
    "                x = x + layer_output\n",
    "            else: x = layer_output\n",
    "        return x"
   ]
  },
  {
   "cell_type": "code",
   "execution_count": null,
   "metadata": {},
   "outputs": [],
   "source": [
    "#testing first without shortcut connections\n",
    "layer_sizes = [3,3,3,3,3,1]\n",
    "sample_input = torch.tensor([[1.,0.,-1.]])\n",
    "torch.manual_seed(123)\n",
    "model_without_shorcut = ExampleDeepNeuralNetwork(layer_sizes, use_shorcut=False)\n",
    "\n",
    "\n"
   ]
  },
  {
   "cell_type": "code",
   "execution_count": 39,
   "metadata": {},
   "outputs": [],
   "source": [
    "# a function to computes gradient\n",
    "def print_gradients(model, x):\n",
    "    #forward pass\n",
    "    output = model(x)\n",
    "    target = torch.tensor([[0.]])\n",
    "\n",
    "    #calculate loss based on how close the target and the output are\n",
    "    loss = nn.MSELoss()\n",
    "    loss = loss(output, target)\n",
    "\n",
    "    #backward pass to calculate the gradients\n",
    "    loss.backward()\n",
    "\n",
    "    for name, param in model.named_parameters():\n",
    "        if 'weight' in name:\n",
    "            # Print the mean absolute gradient of the weigths\n",
    "            print(f\"{name} has gradient mean of {param.grad.abs().mean().item()}\")"
   ]
  },
  {
   "cell_type": "code",
   "execution_count": 40,
   "metadata": {},
   "outputs": [
    {
     "name": "stdout",
     "output_type": "stream",
     "text": [
      "layers.0.0.weight has gradient mean of 0.0006289089797064662\n",
      "layers.1.0.weight has gradient mean of 0.00037444636109285057\n",
      "layers.2.0.weight has gradient mean of 0.0022296393290162086\n",
      "layers.3.0.weight has gradient mean of 0.004360969644039869\n",
      "layers.4.0.weight has gradient mean of 0.01574220508337021\n"
     ]
    }
   ],
   "source": [
    "#let's apply the function to our model without shortcut connections\n",
    "print_gradients(model_without_shorcut, sample_input)"
   ]
  },
  {
   "cell_type": "markdown",
   "metadata": {},
   "source": [
    "As we can see based on the output of the print_gradients function, the gradients become\n",
    "smaller as we progress from the last layer (layers.4) to the first layer (layers.0), which\n",
    "is a phenomenon called the vanishing gradient problem."
   ]
  },
  {
   "cell_type": "code",
   "execution_count": null,
   "metadata": {},
   "outputs": [
    {
     "name": "stdout",
     "output_type": "stream",
     "text": [
      "layers.0.0.weight has gradient mean of 0.25278669595718384\n",
      "layers.1.0.weight has gradient mean of 0.2359604835510254\n",
      "layers.2.0.weight has gradient mean of 0.3751014769077301\n",
      "layers.3.0.weight has gradient mean of 0.3039548695087433\n",
      "layers.4.0.weight has gradient mean of 1.5117788314819336\n"
     ]
    }
   ],
   "source": [
    "# a model with shortcut connections\n",
    "torch.manual_seed(123)\n",
    "model_without_shorcut = ExampleDeepNeuralNetwork(\n",
    "    layer_sizes, use_shorcut=True\n",
    ")\n",
    "print_gradients(model_without_shorcut, sample_input)\n",
    "#we can see that the gradients are larger and stabilise when using shortcut connections, which can help with learning in deep networks"
   ]
  },
  {
   "cell_type": "markdown",
   "metadata": {},
   "source": [
    "#### Connecting attention and linear layers in a transformer block"
   ]
  },
  {
   "cell_type": "code",
   "execution_count": 45,
   "metadata": {},
   "outputs": [],
   "source": [
    "# the transformer block\n",
    "import sys\n",
    "sys.path.append(\"..\") #to import from the parent directory\n",
    "from utils import MultiHeadAttention\n",
    "\n",
    "class TransformerBlock(nn.Module):\n",
    "    def __init__(self, cfg):\n",
    "        super().__init__()\n",
    "        self.att = MultiHeadAttention(\n",
    "            d_in = cfg[\"emb_dim\"],\n",
    "            d_out = cfg[\"emb_dim\"],\n",
    "            context_length=cfg[\"context_length\"],\n",
    "            num_heads = cfg[\"n_heads\"],\n",
    "            dropout = cfg[\"drop_rate\"],\n",
    "            qkv_bias = cfg[\"qkv_bias\"]\n",
    "        )\n",
    "        self.ff = FeedForward(cfg)\n",
    "        self.norm1 = LayerNorm(cfg[\"emb_dim\"])\n",
    "        self.norm2 = LayerNorm(cfg[\"emb_dim\"])\n",
    "        self.drop_shortcut = nn.Dropout(cfg[\"drop_rate\"])\n",
    "\n",
    "\n",
    "    def forward(self,x):\n",
    "                                                                                #A\n",
    "        shortcut =x\n",
    "        x = self.norm1(x)\n",
    "        x= self.att(x)\n",
    "        x= self.drop_shortcut(x)\n",
    "        x = x + shortcut #add the original input (shortcut connection)\n",
    "\n",
    "        shortcut = x\n",
    "        x  = self.norm2(x)                                                      #B\n",
    "        x = self.ff(x)\n",
    "        x = self.drop_shortcut(x)\n",
    "        x = x + shortcut                                                         #C                                             \n",
    "        return x\n",
    "\n",
    "#A Shortcut connection for attention block\n",
    "#B Shortcut connection for feed forward block\n",
    "#C Add the original input back"
   ]
  },
  {
   "cell_type": "code",
   "execution_count": 46,
   "metadata": {},
   "outputs": [
    {
     "name": "stdout",
     "output_type": "stream",
     "text": [
      "Input shape: torch.Size([2, 4, 768])\n",
      "Output shape: torch.Size([2, 4, 768])\n"
     ]
    }
   ],
   "source": [
    "#testing\n",
    "torch.manual_seed(123)\n",
    "x = torch.rand(2,4,768)                                     #A\n",
    "block = TransformerBlock(GPT_CONFIG_124M)\n",
    "output = block(x)\n",
    "print(\"Input shape:\", x.shape)\n",
    "print(\"Output shape:\", output.shape) #should be (2,4,768)\n",
    "\n",
    "#A Create sample input of shape [batch_size, num_tokens, emb_dim]"
   ]
  },
  {
   "cell_type": "markdown",
   "metadata": {},
   "source": [
    "#### Coding the GPT model"
   ]
  },
  {
   "cell_type": "code",
   "execution_count": 48,
   "metadata": {},
   "outputs": [],
   "source": [
    "#The GPT Model architecture implementation\n",
    "class GPTModel(nn.Module):\n",
    "    def __init__(self, cfg):\n",
    "        super().__init__()\n",
    "        self.tok_emb = nn.Embedding(cfg[\"vocab_size\"], cfg[\"emb_dim\"])\n",
    "        self.pos_emb = nn.Embedding(cfg[\"context_length\"], cfg[\"emb_dim\"])\n",
    "        self.drop_emb = nn.Dropout(cfg[\"drop_rate\"])\n",
    "        self.trf_blocks = nn.Sequential(\n",
    "            *[TransformerBlock(cfg) for _ in range(cfg[\"n_layers\"])]\n",
    "        )\n",
    "        self.final_norm = LayerNorm(cfg[\"emb_dim\"])\n",
    "        self.out_head = nn.Linear(cfg[\"emb_dim\"], cfg[\"vocab_size\"], bias=False)\n",
    "\n",
    "    def forward(self, in_idx):\n",
    "        batch_size, seq_len = in_idx.shape\n",
    "        tok_embeds = self.tok_emb(in_idx)\n",
    "        pos_embeds = self.pos_emb(torch.arange(seq_len, device=in_idx.device)) #A\n",
    "\n",
    "        x = tok_embeds + pos_embeds\n",
    "        x = self.drop_emb(x)\n",
    "        x = self.trf_blocks(x)\n",
    "        x = self.final_norm(x)\n",
    "        logits = self.out_head(x)\n",
    "\n",
    "        return logits\n",
    "    \n",
    "#A The device setting will allow us to train the model on a CPU or GPU, depending on which device the input data sits"
   ]
  },
  {
   "cell_type": "code",
   "execution_count": 49,
   "metadata": {},
   "outputs": [
    {
     "name": "stdout",
     "output_type": "stream",
     "text": [
      "Input batch tensor([[6109, 3626, 6100,  345],\n",
      "        [6109, 1110, 6622,  257]])\n",
      "Output logits shape: torch.Size([2, 4, 50257])\n",
      "tensor([[[-0.6553,  0.4158,  0.3105,  ..., -0.3362, -0.7134, -0.4805],\n",
      "         [ 0.8252, -0.8948, -0.6052,  ..., -0.6546, -0.7374, -0.3287],\n",
      "         [ 0.2420,  0.0976, -0.6097,  ..., -0.1342, -0.9561, -0.6095],\n",
      "         [-0.9763,  0.5278, -0.4405,  ...,  0.8214,  0.0259, -0.5252]],\n",
      "\n",
      "        [[-0.5229,  0.5286, -0.0876,  ..., -0.7068, -0.6913, -0.0683],\n",
      "         [ 0.1366, -0.0485,  0.2685,  ...,  0.2380, -0.6056,  0.4005],\n",
      "         [ 0.6425,  0.7836, -0.2196,  ..., -0.0201,  0.0758, -0.1705],\n",
      "         [-0.4148, -0.0514,  0.2661,  ...,  0.8324, -0.6698,  0.1016]]],\n",
      "       grad_fn=<UnsafeViewBackward0>)\n"
     ]
    }
   ],
   "source": [
    "#testing\n",
    "torch.manual_seed(123)\n",
    "model = GPTModel(GPT_CONFIG_124M)\n",
    "\n",
    "out = model(batch)\n",
    "print(\"Input batch\", batch)\n",
    "print(\"Output logits shape:\", out.shape) #should be (2, seq_len, vocab_size)\n",
    "print(out)"
   ]
  },
  {
   "cell_type": "markdown",
   "metadata": {},
   "source": [
    "Computing the size of the model"
   ]
  },
  {
   "cell_type": "code",
   "execution_count": 50,
   "metadata": {},
   "outputs": [
    {
     "name": "stdout",
     "output_type": "stream",
     "text": [
      "total number of parameters: 163,009,536\n"
     ]
    }
   ],
   "source": [
    "total_params = sum(p.numel() for p in model.parameters())\n",
    "print(f\"total number of parameters: {total_params:,}\")"
   ]
  },
  {
   "cell_type": "markdown",
   "metadata": {},
   "source": [
    "this 163M is different from 124M we are speaking about till reading the course book\n",
    "It's due to a concept called weight tying. the original GPT-2 architechture is reusing the weights from the token embedding layer in its output layer.\n",
    "\n",
    "to undersand let's go throught some exmaple"
   ]
  },
  {
   "cell_type": "code",
   "execution_count": 51,
   "metadata": {},
   "outputs": [
    {
     "name": "stdout",
     "output_type": "stream",
     "text": [
      "Token embedding layer shape: torch.Size([50257, 768])\n",
      "output layer shape: torch.Size([50257, 768])\n"
     ]
    }
   ],
   "source": [
    "print(\"Token embedding layer shape:\", model.tok_emb.weight.shape)\n",
    "print(\"output layer shape:\", model.out_head.weight.shape)"
   ]
  },
  {
   "cell_type": "code",
   "execution_count": 52,
   "metadata": {},
   "outputs": [
    {
     "name": "stdout",
     "output_type": "stream",
     "text": [
      "Number of trainable parameters considering weigth tying: 124,412,160\n"
     ]
    }
   ],
   "source": [
    "#let's remove the count of output layer parameters\n",
    "total_params_gpt2 = total_params - sum(p.numel() for p in model.out_head.parameters())\n",
    "print(f\"Number of trainable parameters considering weigth tying: {total_params_gpt2:,}\")"
   ]
  },
  {
   "cell_type": "markdown",
   "metadata": {},
   "source": [
    "NB: Weight tying is a technique where the weights of the input embedding layer and the output layer are shared to reduce the number of parameters in the model.\n",
    "in GPT2 the token embedding layer and the output layer share the same weights\n",
    "but in modern  implementation of LLMs weight tying is not always used"
   ]
  },
  {
   "cell_type": "code",
   "execution_count": 55,
   "metadata": {},
   "outputs": [
    {
     "name": "stdout",
     "output_type": "stream",
     "text": [
      "Number of parameters in FeedForward module: 4,722,432\n",
      "Number of parameters in Attention module: 2,360,064\n"
     ]
    }
   ],
   "source": [
    "#EXERCISE 4.1 NUMBER OF PARAMETERS IN FEED FORWARD AND ATTENTION MODULES\n",
    "\n",
    "ff_num_params = sum(p.numel() for p in FeedForward(GPT_CONFIG_124M).parameters())\n",
    "print(f\"Number of parameters in FeedForward module: {ff_num_params:,}\")\n",
    "attention_num_params = sum(p.numel() for p in model.trf_blocks[0].att.parameters())\n",
    "print(f\"Number of parameters in Attention module: {attention_num_params:,}\")"
   ]
  },
  {
   "cell_type": "markdown",
   "metadata": {},
   "source": [
    "Computing the memory requirements of our 163M parameters GPT\n"
   ]
  },
  {
   "cell_type": "code",
   "execution_count": 56,
   "metadata": {},
   "outputs": [
    {
     "name": "stdout",
     "output_type": "stream",
     "text": [
      "Total size of the model : 621.83 MB\n"
     ]
    }
   ],
   "source": [
    "total_size_bytes = total_params * 4   #A\n",
    "total_size_mb = total_size_bytes / (1024**2)    #B\n",
    "print(f\"Total size of the model : {total_size_mb:.2f} MB\")\n",
    "#A Calculate the total size in bytes (assuming float32, 4 bytes per parameter)\n",
    "#B Convert to megabytes"
   ]
  },
  {
   "cell_type": "code",
   "execution_count": 61,
   "metadata": {},
   "outputs": [],
   "source": [
    "#transform the output fom GPT in text\n",
    "#A function for the GPT model to generate text\n",
    "\n",
    "def generate_text_simple(model, idx, max_new_tokens, context_size): #A\n",
    "    for _ in range(max_new_tokens):\n",
    "        idx_cond = idx[:, -context_size:]                           #B\n",
    "        with torch.no_grad():\n",
    "            logits = model(idx_cond)\n",
    "        \n",
    "        logits = logits[:, -1, :]                                  #C\n",
    "        probas = torch.softmax(logits, dim=-1)                       #D\n",
    "        idx_next = torch.argmax(probas, dim=-1, keepdim=True)  #E\n",
    "        idx = torch.cat((idx, idx_next), dim=1)                   #F\n",
    "\n",
    "    return idx\n",
    "\n",
    "#A idx is a (batch, n_tokens) array of indices in the current context\n",
    "#B Crop current context if it exceeds the supported context size E.g., if LLM supports only 5 tokens, and the\n",
    "#context size is 10 then only the last 5 tokens are used as context\n",
    "#C Focus only on the last time step, so that (batch, n_token, vocab_size) becomes (batch, vocab_size)\n",
    "#D probas has shape (batch, vocab_size)\n",
    "#E idx_next has shape (batch, 1)\n",
    "#F Append sampled index to the running sequence, where idx has shape (batch, n_tokens+1)"
   ]
  },
  {
   "cell_type": "code",
   "execution_count": 62,
   "metadata": {},
   "outputs": [
    {
     "name": "stdout",
     "output_type": "stream",
     "text": [
      "encoded: [15496, 11, 314, 716]\n",
      "encoded_tensor shape: torch.Size([1, 4])\n"
     ]
    }
   ],
   "source": [
    "#test\n",
    "start_context = \"Hello, I am\"\n",
    "encoded = tokenizer.encode(start_context)\n",
    "print(\"encoded:\", encoded)\n",
    "encoded_tensor = torch.tensor(encoded).unsqueeze(0) #add batch dimension\n",
    "print(\"encoded_tensor shape:\", encoded_tensor.shape)"
   ]
  },
  {
   "cell_type": "markdown",
   "metadata": {},
   "source": [
    "Next, we put the model into .eval() mode, which disables random components like\n",
    "dropout, which are only used during training, and use the generate_text_simple function\n",
    "on the encoded input tensor"
   ]
  },
  {
   "cell_type": "code",
   "execution_count": 63,
   "metadata": {},
   "outputs": [
    {
     "name": "stdout",
     "output_type": "stream",
     "text": [
      "Output indices: tensor([[15496,    11,   314,   716, 37532, 49980,  1114, 46546, 23696, 49073]])\n",
      "output length: 10\n"
     ]
    }
   ],
   "source": [
    "model.eval() #set model to evaluation mode (disable dropout)\n",
    "out = generate_text_simple(\n",
    "    model=model,\n",
    "    idx = encoded_tensor,\n",
    "    max_new_tokens=6,\n",
    "    context_size = GPT_CONFIG_124M[\"context_length\"]\n",
    ")\n",
    "print(\"Output indices:\", out)\n",
    "print(\"output length:\", len(out[0]))\n"
   ]
  },
  {
   "cell_type": "code",
   "execution_count": 64,
   "metadata": {},
   "outputs": [
    {
     "name": "stdout",
     "output_type": "stream",
     "text": [
      "Hello, I am Ae thefts For Droid analyticsAbyss\n"
     ]
    }
   ],
   "source": [
    "#convert output indices to text\n",
    "decoded_text = tokenizer.decode(out.squeeze(0).tolist())\n",
    "print(decoded_text)"
   ]
  }
 ],
 "metadata": {
  "kernelspec": {
   "display_name": "Python 3",
   "language": "python",
   "name": "python3"
  },
  "language_info": {
   "codemirror_mode": {
    "name": "ipython",
    "version": 3
   },
   "file_extension": ".py",
   "mimetype": "text/x-python",
   "name": "python",
   "nbconvert_exporter": "python",
   "pygments_lexer": "ipython3",
   "version": "3.10.12"
  }
 },
 "nbformat": 4,
 "nbformat_minor": 2
}
