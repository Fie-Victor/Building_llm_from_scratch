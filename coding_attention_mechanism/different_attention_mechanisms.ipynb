{
 "cells": [
  {
   "cell_type": "markdown",
   "metadata": {},
   "source": [
    "## In this note book we code  fourdifferent (from basic to complex) attention mechanisms"
   ]
  },
  {
   "cell_type": "markdown",
   "metadata": {
    "vscode": {
     "languageId": "plaintext"
    }
   },
   "source": [
    "### A Simple self-attention mechanism without trainable weights"
   ]
  },
  {
   "cell_type": "code",
   "execution_count": 1,
   "metadata": {},
   "outputs": [],
   "source": [
    "# let's consider this input sentence (embeddings of a sentence), we will implement and use a simple attention mechanism other input\n",
    "import torch\n",
    "inputs = torch.tensor([\n",
    "    [0.43, 0.15, 0.89], # Your (x^1)\n",
    "    [0.55, 0.87, 0.66], # journey (x^2)\n",
    "    [0.57, 0.85, 0.64], # starts (x^3)\n",
    "    [0.22, 0.58, 0.33], # with (x^4)\n",
    "    [0.77, 0.25, 0.10], # one (x^5)\n",
    "    [0.05, 0.80, 0.55]  # step (x^6)\n",
    "])"
   ]
  },
  {
   "cell_type": "code",
   "execution_count": 18,
   "metadata": {},
   "outputs": [
    {
     "name": "stdout",
     "output_type": "stream",
     "text": [
      "tensor([0.9544, 1.4950, 1.4754, 0.8434, 0.7070, 1.0865])\n"
     ]
    }
   ],
   "source": [
    "# we wannt to compute context vector for x2, so we will use x2 as query\n",
    "query = inputs[1] # x^2\n",
    "attn_scores_2 = torch.empty(inputs.shape[0]) # to store attention scores for each input word respect to x2\n",
    "for i, x_i in enumerate(inputs):\n",
    "    attn_scores_2[i] = torch.dot(x_i, query) # score(x^i, x^2) = x^i . x^2\n",
    "\n",
    "print(attn_scores_2)"
   ]
  },
  {
   "cell_type": "code",
   "execution_count": 19,
   "metadata": {},
   "outputs": [
    {
     "name": "stdout",
     "output_type": "stream",
     "text": [
      "Attention weights: tensor([0.1455, 0.2278, 0.2249, 0.1285, 0.1077, 0.1656])\n",
      "Sum of attention weights: tensor(1.0000)\n"
     ]
    }
   ],
   "source": [
    "# then we ormalize the attentions score to get attentions weights that sum to 1\n",
    "attn_weights_2_tmp = attn_scores_2 / attn_scores_2.sum() # this is not the best way to do it, we will see better ways later\n",
    "print(\"Attention weights:\", attn_weights_2_tmp)\n",
    "print(\"Sum of attention weights:\", attn_weights_2_tmp.sum()) # should be 1"
   ]
  },
  {
   "cell_type": "code",
   "execution_count": 20,
   "metadata": {},
   "outputs": [
    {
     "name": "stdout",
     "output_type": "stream",
     "text": [
      "Attention weights (softmax naive): tensor([0.1385, 0.2379, 0.2333, 0.1240, 0.1082, 0.1581])\n",
      "Sum of attention weights (softmax naive): tensor(1.)\n"
     ]
    }
   ],
   "source": [
    "# In practice, it's better to use softmax function to get attention weights (avoid negative weights and best for gradient operations)\n",
    "def softmax_naive(x):\n",
    "    return torch.exp(x)/torch.exp(x).sum(dim=0)\n",
    "\n",
    "attn_weights_2_naive = softmax_naive(attn_scores_2)\n",
    "print(\"Attention weights (softmax naive):\", attn_weights_2_naive)\n",
    "print(\"Sum of attention weights (softmax naive):\", attn_weights_2_naive.sum()) # should be 1"
   ]
  },
  {
   "cell_type": "code",
   "execution_count": 21,
   "metadata": {},
   "outputs": [
    {
     "name": "stdout",
     "output_type": "stream",
     "text": [
      "Attention weights (softmax): tensor([0.1385, 0.2379, 0.2333, 0.1240, 0.1082, 0.1581])\n",
      "Sum of attention weights (softmax): tensor(1.)\n"
     ]
    }
   ],
   "source": [
    "#better use pytorch softmax which is suitable to encounder overflow, underflow or others like instability problems\n",
    "attn_weights_2 = torch.softmax(attn_scores_2, dim=0)\n",
    "print(\"Attention weights (softmax):\", attn_weights_2)\n",
    "print(\"Sum of attention weights (softmax):\", attn_weights_2.sum()) # should be 1"
   ]
  },
  {
   "cell_type": "code",
   "execution_count": null,
   "metadata": {},
   "outputs": [
    {
     "name": "stdout",
     "output_type": "stream",
     "text": [
      "Context vector for x2: tensor([0.4095, 0.5534, 0.5012])\n",
      "Context vector for x2 (using @): tensor([0.4419, 0.6515, 0.5683])\n"
     ]
    }
   ],
   "source": [
    "#finallu we calculate the context vector z2 for x2 as the weighted sum of all input words\n",
    "query = inputs[1] # x^2\n",
    "context_vec_2 = torch.zeros(query.shape) # to store context vector for x^2\n",
    "for i_, x_i in enumerate(inputs):\n",
    "    context_vec_2 += attn_weights_2[i] * x_i # z^2 = sum(score(x^i, x^2) * x^i)\n",
    "print(\"Context vector for x2:\", context_vec_2)\n",
    "\n",
    "y = attn_weights_2 @ inputs # this is equivalent to the above for loop\n",
    "print(\"Context vector for x2 (using @):\", y)\n",
    "\n",
    "#NB: using the matrice multiplication give more accurate result"
   ]
  },
  {
   "cell_type": "code",
   "execution_count": null,
   "metadata": {},
   "outputs": [
    {
     "name": "stdout",
     "output_type": "stream",
     "text": [
      "tensor([[0.9995, 0.9544, 0.9422, 0.4753, 0.4576, 0.6310],\n",
      "        [0.9544, 1.4950, 1.4754, 0.8434, 0.7070, 1.0865],\n",
      "        [0.9422, 1.4754, 1.4570, 0.8296, 0.7154, 1.0605],\n",
      "        [0.4753, 0.8434, 0.8296, 0.4937, 0.3474, 0.6565],\n",
      "        [0.4576, 0.7070, 0.7154, 0.3474, 0.6654, 0.2935],\n",
      "        [0.6310, 1.0865, 1.0605, 0.6565, 0.2935, 0.9450]])\n",
      "tensor([[0.9995, 0.9544, 0.9422, 0.4753, 0.4576, 0.6310],\n",
      "        [0.9544, 1.4950, 1.4754, 0.8434, 0.7070, 1.0865],\n",
      "        [0.9422, 1.4754, 1.4570, 0.8296, 0.7154, 1.0605],\n",
      "        [0.4753, 0.8434, 0.8296, 0.4937, 0.3474, 0.6565],\n",
      "        [0.4576, 0.7070, 0.7154, 0.3474, 0.6654, 0.2935],\n",
      "        [0.6310, 1.0865, 1.0605, 0.6565, 0.2935, 0.9450]])\n"
     ]
    }
   ],
   "source": [
    "#now computting attention weights and context vector for all inputs tokens\n",
    "\n",
    "attn_scores = torch.zeros((inputs.shape[0], inputs.shape[0])) # to store attention scores for each input word respect to each input word\n",
    "for i, x_i in enumerate(inputs):\n",
    "    for j, x_j in enumerate(inputs):\n",
    "        attn_scores[i, j] = torch.dot(x_i, x_j) # score(x^i, x^j) = x^i . x^j\n",
    "print(attn_scores)\n",
    "\n",
    "#or \n",
    "attn_scores = inputs@ inputs.T\n",
    "print(attn_scores)\n"
   ]
  },
  {
   "cell_type": "code",
   "execution_count": 15,
   "metadata": {},
   "outputs": [
    {
     "name": "stdout",
     "output_type": "stream",
     "text": [
      "Attention weights: tensor([[0.2098, 0.2006, 0.1981, 0.1242, 0.1220, 0.1452],\n",
      "        [0.1385, 0.2379, 0.2333, 0.1240, 0.1082, 0.1581],\n",
      "        [0.1390, 0.2369, 0.2326, 0.1242, 0.1108, 0.1565],\n",
      "        [0.1435, 0.2074, 0.2046, 0.1462, 0.1263, 0.1720],\n",
      "        [0.1526, 0.1958, 0.1975, 0.1367, 0.1879, 0.1295],\n",
      "        [0.1385, 0.2184, 0.2128, 0.1420, 0.0988, 0.1896]])\n",
      "Sum of attention weights (rows): tensor([1.0000, 1.0000, 1.0000, 1.0000, 1.0000, 1.0000])\n"
     ]
    }
   ],
   "source": [
    "#we normalize\n",
    "atten_weights = torch.softmax(attn_scores, dim=-1) # normalize each row (-1 for normalize according last dimension)\n",
    "print(\"Attention weights:\", atten_weights)\n",
    "\n",
    "#let's verifie the rows sum to 1\n",
    "print(\"Sum of attention weights (rows):\", atten_weights.sum(dim=-1)) # should be 1"
   ]
  },
  {
   "cell_type": "code",
   "execution_count": 17,
   "metadata": {},
   "outputs": [
    {
     "name": "stdout",
     "output_type": "stream",
     "text": [
      "All context vectors: tensor([[0.4421, 0.5931, 0.5790],\n",
      "        [0.4419, 0.6515, 0.5683],\n",
      "        [0.4431, 0.6496, 0.5671],\n",
      "        [0.4304, 0.6298, 0.5510],\n",
      "        [0.4671, 0.5910, 0.5266],\n",
      "        [0.4177, 0.6503, 0.5645]])\n",
      "Previous 2nd context vector: tensor([0.4095, 0.5534, 0.5012])\n"
     ]
    }
   ],
   "source": [
    "#we compute all context vectors\n",
    "all_context_vecs = atten_weights @ inputs\n",
    "print(\"All context vectors:\", all_context_vecs)\n",
    "\n",
    "print(\"Previous 2nd context vector:\", context_vec_2) # to check"
   ]
  },
  {
   "cell_type": "markdown",
   "metadata": {},
   "source": [
    "### A  self-attention mechanism with trainable weights (scaled dot-product attention)"
   ]
  },
  {
   "cell_type": "markdown",
   "metadata": {},
   "source": [
    "#### Computing step by step"
   ]
  },
  {
   "cell_type": "code",
   "execution_count": 27,
   "metadata": {},
   "outputs": [
    {
     "name": "stdout",
     "output_type": "stream",
     "text": [
      "Query vector for x2: tensor([1.0747, 1.3278])\n"
     ]
    }
   ],
   "source": [
    "# we will start by computing context vector for the second word \"journey\" x^2\n",
    "x_2 = inputs[1] #\n",
    "d_in = inputs.shape[1] #The input embedding size, d=3\n",
    "d_out = 2 #The output embedding size, d_out=2\n",
    "\n",
    "#generally d_in= d_out but for comprehensiveness we will consider d_in != d_out\n",
    "\n",
    "#we then initialize the weight matrices Wq, W_k and W_v\n",
    "\n",
    "W_query = torch.nn.Parameter(torch.rand(d_in, d_out), requires_grad=False) # grad false because we arre not training here\n",
    "W_key = torch.nn.Parameter(torch.rand(d_in, d_out), requires_grad=False)\n",
    "W_value = torch.nn.Parameter(torch.rand(d_in, d_out), requires_grad=False)\n",
    "\n",
    "query_2 = x_2@W_query # q^2 = x^2 W_q\n",
    "key_2 = x_2@W_key # k^2 = x^2 W_k\n",
    "value_2 = x_2@W_value # v^2 = x^2 W_v\n",
    "print(\"Query vector for x2:\", query_2)"
   ]
  },
  {
   "cell_type": "code",
   "execution_count": 29,
   "metadata": {},
   "outputs": [
    {
     "name": "stdout",
     "output_type": "stream",
     "text": [
      "Keys.shape: torch.Size([6, 2])\n",
      "Values.shape: torch.Size([6, 2])\n"
     ]
    }
   ],
   "source": [
    "# we need keys and values of all inputs to compute z2\n",
    "keys = inputs@W_key # keys = X W_k\n",
    "values = inputs@W_value # values = X W_v\n",
    "print(\"Keys.shape:\", keys.shape)\n",
    "print(\"Values.shape:\", values.shape)"
   ]
  },
  {
   "cell_type": "code",
   "execution_count": null,
   "metadata": {},
   "outputs": [
    {
     "name": "stdout",
     "output_type": "stream",
     "text": [
      "Attention score w22: tensor(1.6392)\n",
      "Attention scores for x2: tensor([0.9369, 1.6392, 1.6356, 0.8910, 1.1108, 0.9853])\n"
     ]
    }
   ],
   "source": [
    "#we compute attentions scores\n",
    "\n",
    "#first attention score w22\n",
    "keys_2 = keys[1] # k^2\n",
    "attn_scores_22 = query_2.dot(keys_2) # score(x^2) = q^2 . k^2\n",
    "print(\"Attention score w22:\", attn_scores_22)\n",
    "\n",
    "\n",
    "#then all attention scores for x2\n",
    "attn_scores_2 = query_2@ keys.T\n",
    "print(\"Attention scores for x2:\", attn_scores_2)\n"
   ]
  },
  {
   "cell_type": "code",
   "execution_count": null,
   "metadata": {},
   "outputs": [
    {
     "name": "stdout",
     "output_type": "stream",
     "text": [
      "tensor([0.1348, 0.2216, 0.2210, 0.1305, 0.1525, 0.1395])\n"
     ]
    }
   ],
   "source": [
    "#now we calculate attention weights for input x2 \n",
    "#the difference from previous implementation is that we scale the scores by sqrt(d_out)\n",
    "attn_weights_2 = torch.softmax(attn_scores_2/ d_out**0.5, dim=-1) # scale by sqrt(d_out)\n",
    "print(attn_weights_2)\n",
    "\n",
    "#we scaled the scores to avoid very small gradients when d_out is large\n",
    "# in fact the softmax function can produce very small gradients when the input values are large\n",
    "# this is because the softmax function is sensitive to the scale of the input values\n",
    "# by scaling the input values by sqrt(d_out), we can reduce the magnitude of the input values and thus improve the stability of the softmax function\n",
    "# avoid training stagnation"
   ]
  },
  {
   "cell_type": "code",
   "execution_count": 34,
   "metadata": {},
   "outputs": [
    {
     "name": "stdout",
     "output_type": "stream",
     "text": [
      "Context vector for x2: tensor([1.1735, 0.6411])\n"
     ]
    }
   ],
   "source": [
    "#finally, we compute the context vector z2 # weighted sum of all value vectors by attention weights\n",
    "context_vec_2 = attn_weights_2 @ values\n",
    "print(\"Context vector for x2:\", context_vec_2)"
   ]
  },
  {
   "cell_type": "markdown",
   "metadata": {},
   "source": [
    "#### implementing a compact self-attention python class"
   ]
  },
  {
   "cell_type": "code",
   "execution_count": 35,
   "metadata": {},
   "outputs": [],
   "source": [
    "#the compact class\n",
    "import torch.nn as nn\n",
    "class SelfAttention_v1(nn.Module):\n",
    "    def __init__(self, d_in, d_out):\n",
    "        super().__init__()\n",
    "        self.d_out = d_out\n",
    "        self.W_query = nn.Parameter(torch.rand(d_in, d_out))\n",
    "        self.W_key = nn.Parameter(torch.rand(d_in,d_out))\n",
    "        self.W_value = nn.Parameter(torch.rand(d_in, d_out))\n",
    "\n",
    "    def forward(self, x):\n",
    "        keys = x@self.W_key\n",
    "        values = x@self.W_value\n",
    "        queries = x@self.W_query\n",
    "        attn_scores = queries@keys.T #omega\n",
    "        attn_weights = torch.softmax(attn_scores / keys.shape[-1]**0.5, dim=-1)\n",
    "        context_vec = attn_weights@values\n",
    "        return context_vec\n",
    "    "
   ]
  },
  {
   "cell_type": "code",
   "execution_count": 36,
   "metadata": {},
   "outputs": [
    {
     "name": "stdout",
     "output_type": "stream",
     "text": [
      "tensor([[0.2996, 0.8053],\n",
      "        [0.3061, 0.8210],\n",
      "        [0.3058, 0.8203],\n",
      "        [0.2948, 0.7939],\n",
      "        [0.2927, 0.7891],\n",
      "        [0.2990, 0.8040]], grad_fn=<MmBackward0>)\n"
     ]
    }
   ],
   "source": [
    "#testing\n",
    "torch.manual_seed(123)\n",
    "sa_v1 = SelfAttention_v1(d_in, d_out)\n",
    "print(sa_v1(inputs))"
   ]
  },
  {
   "cell_type": "code",
   "execution_count": null,
   "metadata": {},
   "outputs": [],
   "source": [
    "# improving the SelfAttention class to use nn.Linear which is more efficient and better for training\n",
    "class SelfAttention_v2(nn.Module):\n",
    "    def __init__(self, d_in, d_out, qkv_bias=False):\n",
    "        super().__init__()\n",
    "        self.d_out = d_out\n",
    "        self.W_key = nn.Linear(d_in, d_out, bias = qkv_bias)\n",
    "        self.W_value = nn.Linear(d_in, d_out, bias = qkv_bias)\n",
    "        self.W_query = nn.Linear(d_in, d_out, bias = qkv_bias)\n",
    "\n",
    "    def forward(self, x):\n",
    "        keys = self.W_key(x)\n",
    "        values = self.W_value(x)\n",
    "        queries = self.W_query(x)\n",
    "        attn_scores = queries@keys.T\n",
    "        attn_weights = torch.softmax(attn_scores / keys.shape[-1]**0.5, dim=-1)\n",
    "        context_vec = attn_weights@values\n",
    "        return context_vec\n",
    "    \n"
   ]
  },
  {
   "cell_type": "code",
   "execution_count": 58,
   "metadata": {},
   "outputs": [
    {
     "name": "stdout",
     "output_type": "stream",
     "text": [
      "tensor([[-0.6433,  0.1075],\n",
      "        [-0.6464,  0.1035],\n",
      "        [-0.6464,  0.1035],\n",
      "        [-0.6443,  0.1024],\n",
      "        [-0.6449,  0.1029],\n",
      "        [-0.6445,  0.1027]], grad_fn=<MmBackward0>)\n",
      "tensor([[-0.6433,  0.1075],\n",
      "        [-0.6464,  0.1035],\n",
      "        [-0.6464,  0.1035],\n",
      "        [-0.6443,  0.1024],\n",
      "        [-0.6449,  0.1029],\n",
      "        [-0.6445,  0.1027]], grad_fn=<MmBackward0>)\n"
     ]
    }
   ],
   "source": [
    "#testing\n",
    "torch.manual_seed(123)\n",
    "sa_v2 = SelfAttention_v2(d_in, d_out)\n",
    "print(sa_v2(inputs))\n",
    "\n",
    "# we can see that the results are different from the previous bescause they use different initialisation scheme\n",
    "# let's try to transfer the weights from the sa_v2 to sa_v1\n",
    "sa_v1.W_key = torch.nn.Parameter(sa_v2.W_key.weight.T)\n",
    "sa_v1.W_value = torch.nn.Parameter(sa_v2.W_value.weight.T)\n",
    "sa_v1.W_query = torch.nn.Parameter(sa_v2.W_query.weight.T)\n",
    "print(sa_v1(inputs)) # now the results should be the same"
   ]
  },
  {
   "cell_type": "markdown",
   "metadata": {},
   "source": [
    "### Causal Attention or masked attention (hidding future word)"
   ]
  },
  {
   "cell_type": "code",
   "execution_count": 59,
   "metadata": {},
   "outputs": [
    {
     "name": "stdout",
     "output_type": "stream",
     "text": [
      "tensor([[0.1827, 0.1681, 0.1682, 0.1577, 0.1660, 0.1573],\n",
      "        [0.1675, 0.1732, 0.1730, 0.1607, 0.1623, 0.1634],\n",
      "        [0.1675, 0.1731, 0.1730, 0.1607, 0.1623, 0.1634],\n",
      "        [0.1650, 0.1705, 0.1703, 0.1642, 0.1640, 0.1660],\n",
      "        [0.1661, 0.1713, 0.1711, 0.1630, 0.1635, 0.1650],\n",
      "        [0.1657, 0.1707, 0.1706, 0.1636, 0.1638, 0.1655]],\n",
      "       grad_fn=<SoftmaxBackward0>)\n"
     ]
    }
   ],
   "source": [
    "# the goal is to use only token which appears before or at current token position to compute the context vector\n",
    "#we want to put to 0 all elements above the diagonales in the weight matrix and then do softmax to normalize\n",
    "# \n",
    "# we will use weights from previous sections\n",
    "# \n",
    "queries = sa_v2.W_query(inputs) \n",
    "keys = sa_v2.W_key(inputs)\n",
    "attn_scores = queries@keys.T\n",
    "attn_weights = torch.softmax(attn_scores / keys.shape[-1]**0.5, dim=-1)\n",
    "print(attn_weights)"
   ]
  },
  {
   "cell_type": "code",
   "execution_count": 60,
   "metadata": {},
   "outputs": [
    {
     "name": "stdout",
     "output_type": "stream",
     "text": [
      "tensor([[1., 0., 0., 0., 0., 0.],\n",
      "        [1., 1., 0., 0., 0., 0.],\n",
      "        [1., 1., 1., 0., 0., 0.],\n",
      "        [1., 1., 1., 1., 0., 0.],\n",
      "        [1., 1., 1., 1., 1., 0.],\n",
      "        [1., 1., 1., 1., 1., 1.]])\n"
     ]
    }
   ],
   "source": [
    "#we create the mask\n",
    "context_length = attn_scores.shape[0]\n",
    "mask_simple = torch.tril(torch.ones(context_length, context_length)) # lower triangular matrix\n",
    "print(mask_simple)"
   ]
  },
  {
   "cell_type": "code",
   "execution_count": 61,
   "metadata": {},
   "outputs": [
    {
     "name": "stdout",
     "output_type": "stream",
     "text": [
      "tensor([[0.2098, 0.0000, 0.0000, 0.0000, 0.0000, 0.0000],\n",
      "        [0.1385, 0.2379, 0.0000, 0.0000, 0.0000, 0.0000],\n",
      "        [0.1390, 0.2369, 0.2326, 0.0000, 0.0000, 0.0000],\n",
      "        [0.1435, 0.2074, 0.2046, 0.1462, 0.0000, 0.0000],\n",
      "        [0.1526, 0.1958, 0.1975, 0.1367, 0.1879, 0.0000],\n",
      "        [0.1385, 0.2184, 0.2128, 0.1420, 0.0988, 0.1896]])\n"
     ]
    }
   ],
   "source": [
    "# then we multiply the attention weight by the mask\n",
    "masked_simple = atten_weights*mask_simple\n",
    "print(masked_simple)"
   ]
  },
  {
   "cell_type": "code",
   "execution_count": 62,
   "metadata": {},
   "outputs": [
    {
     "name": "stdout",
     "output_type": "stream",
     "text": [
      "tensor([[1.0000, 0.0000, 0.0000, 0.0000, 0.0000, 0.0000],\n",
      "        [0.3680, 0.6320, 0.0000, 0.0000, 0.0000, 0.0000],\n",
      "        [0.2284, 0.3893, 0.3822, 0.0000, 0.0000, 0.0000],\n",
      "        [0.2046, 0.2956, 0.2915, 0.2084, 0.0000, 0.0000],\n",
      "        [0.1753, 0.2250, 0.2269, 0.1570, 0.2158, 0.0000],\n",
      "        [0.1385, 0.2184, 0.2128, 0.1420, 0.0988, 0.1896]])\n"
     ]
    }
   ],
   "source": [
    "#then we renormalize the weights so that they sum to 1 on each row\n",
    "row_sums = masked_simple.sum(dim=-1, keepdim=True) # keepdim to keep the same shape for broadcasting\n",
    "masked_simple_norm = masked_simple / row_sums\n",
    "print(masked_simple_norm)"
   ]
  },
  {
   "cell_type": "code",
   "execution_count": 63,
   "metadata": {},
   "outputs": [
    {
     "name": "stdout",
     "output_type": "stream",
     "text": [
      "tensor([[0.2477,   -inf,   -inf,   -inf,   -inf,   -inf],\n",
      "        [0.1748, 0.2214,   -inf,   -inf,   -inf,   -inf],\n",
      "        [0.1739, 0.2210, 0.2194,   -inf,   -inf,   -inf],\n",
      "        [0.0730, 0.1196, 0.1184, 0.0668,   -inf,   -inf],\n",
      "        [0.1086, 0.1515, 0.1502, 0.0814, 0.0858,   -inf],\n",
      "        [0.0895, 0.1316, 0.1305, 0.0717, 0.0734, 0.0875]],\n",
      "       grad_fn=<MaskedFillBackward0>)\n"
     ]
    }
   ],
   "source": [
    "#another way to do it is to use a large negative value for the elements above the diagonal before applying softmax\n",
    "mask = torch.triu(torch.ones(context_length, context_length), diagonal=1) # upper triangular matrix\n",
    "masked = attn_scores.masked_fill(mask.bool(), -torch.inf) # fill the elements above the diagonal with -inf\n",
    "print(masked)"
   ]
  },
  {
   "cell_type": "code",
   "execution_count": 64,
   "metadata": {},
   "outputs": [
    {
     "name": "stdout",
     "output_type": "stream",
     "text": [
      "tensor([[1.0000, 0.0000, 0.0000, 0.0000, 0.0000, 0.0000],\n",
      "        [0.4918, 0.5082, 0.0000, 0.0000, 0.0000, 0.0000],\n",
      "        [0.3261, 0.3371, 0.3368, 0.0000, 0.0000, 0.0000],\n",
      "        [0.2462, 0.2544, 0.2542, 0.2451, 0.0000, 0.0000],\n",
      "        [0.1990, 0.2051, 0.2049, 0.1952, 0.1958, 0.0000],\n",
      "        [0.1657, 0.1707, 0.1706, 0.1636, 0.1638, 0.1655]],\n",
      "       grad_fn=<SoftmaxBackward0>)\n"
     ]
    }
   ],
   "source": [
    "#we apply the softmax to this matrix and we are done\n",
    "attn_weights = torch.softmax(masked / keys.shape[-1]**0.5, dim=1)\n",
    "print(attn_weights)"
   ]
  }
 ],
 "metadata": {
  "kernelspec": {
   "display_name": "Python 3",
   "language": "python",
   "name": "python3"
  },
  "language_info": {
   "codemirror_mode": {
    "name": "ipython",
    "version": 3
   },
   "file_extension": ".py",
   "mimetype": "text/x-python",
   "name": "python",
   "nbconvert_exporter": "python",
   "pygments_lexer": "ipython3",
   "version": "3.10.12"
  }
 },
 "nbformat": 4,
 "nbformat_minor": 2
}
